{
 "cells": [
  {
   "cell_type": "markdown",
   "metadata": {},
   "source": [
    "<center><img src=\"images/header.png\"></center>\n",
    "\n",
    "<h1><center>Алгоритмы интеллектуальной обработки больших объемов данных</center></h1>\n",
    "<hr>\n",
    "<h2><center>Деревья решений, случайные леса (практика)</center></h2>"
   ]
  },
  {
   "cell_type": "markdown",
   "metadata": {},
   "source": [
    "**Срок сдачи:** 3 апреля 2017, 06:00 <br> \n",
    "**Штраф за опоздание:** -2 балла после 06:00 3 апреля, -4 балла после 06:00 10 апреля, -6 баллов после 06:00 17 апреля\n",
    "\n",
    "При отправлении ДЗ указывайте фамилию в названии файла<br>\n",
    "\n",
    "Не забудте создать задание в Slack через /todo.\n",
    "\n",
    "Используйте данный Ipython Notebook при оформлении домашнего задания."
   ]
  },
  {
   "cell_type": "code",
   "execution_count": 108,
   "metadata": {
    "collapsed": false
   },
   "outputs": [],
   "source": [
    "import pandas as pd\n",
    "import numpy as np\n",
    "import matplotlib.pyplot as plt\n",
    "\n",
    "%matplotlib inline\n",
    "\n",
    "plt.style.use('ggplot')\n",
    "plt.rcParams['figure.figsize'] = (12,8)\n",
    "\n",
    "# Для кириллицы на графиках\n",
    "font = {'family': 'Verdana',\n",
    "        'weight': 'normal'}\n",
    "plt.rc('font', **font)"
   ]
  },
  {
   "cell_type": "markdown",
   "metadata": {},
   "source": [
    "# Практика"
   ]
  },
  {
   "cell_type": "markdown",
   "metadata": {},
   "source": [
    "### Качество вина (10 баллов)"
   ]
  },
  {
   "cell_type": "markdown",
   "metadata": {},
   "source": [
    "Давайте все-таки разберемся с [вином](https://archive.ics.uci.edu/ml/machine-learning-databases/wine-quality/winequality-red.csv)!\n",
    "\n",
    "\n",
    "#### Задание (1 балл)\n",
    "* Загрузите данные, выполните преобразование целевой переменной: \n",
    "    * quality > 5 -> 1\n",
    "    * quality <= 5 -> 0\n",
    "* Разделите выборку на обучающую и контрольную в пропорции 80/20"
   ]
  },
  {
   "cell_type": "code",
   "execution_count": null,
   "metadata": {
    "collapsed": false
   },
   "outputs": [],
   "source": []
  },
  {
   "cell_type": "code",
   "execution_count": 109,
   "metadata": {
    "collapsed": true
   },
   "outputs": [],
   "source": [
    "df_wine = pd.read_csv('https://archive.ics.uci.edu/ml/machine-learning-databases/wine-quality/winequality-red.csv', sep=';')"
   ]
  },
  {
   "cell_type": "code",
   "execution_count": 110,
   "metadata": {
    "collapsed": false
   },
   "outputs": [
    {
     "data": {
      "text/html": [
       "<div>\n",
       "<table border=\"1\" class=\"dataframe\">\n",
       "  <thead>\n",
       "    <tr style=\"text-align: right;\">\n",
       "      <th></th>\n",
       "      <th>fixed acidity</th>\n",
       "      <th>volatile acidity</th>\n",
       "      <th>citric acid</th>\n",
       "      <th>residual sugar</th>\n",
       "      <th>chlorides</th>\n",
       "      <th>free sulfur dioxide</th>\n",
       "      <th>total sulfur dioxide</th>\n",
       "      <th>density</th>\n",
       "      <th>pH</th>\n",
       "      <th>sulphates</th>\n",
       "      <th>alcohol</th>\n",
       "      <th>quality</th>\n",
       "    </tr>\n",
       "  </thead>\n",
       "  <tbody>\n",
       "    <tr>\n",
       "      <th>0</th>\n",
       "      <td>7.4</td>\n",
       "      <td>0.70</td>\n",
       "      <td>0.00</td>\n",
       "      <td>1.9</td>\n",
       "      <td>0.076</td>\n",
       "      <td>11.0</td>\n",
       "      <td>34.0</td>\n",
       "      <td>0.9978</td>\n",
       "      <td>3.51</td>\n",
       "      <td>0.56</td>\n",
       "      <td>9.4</td>\n",
       "      <td>5</td>\n",
       "    </tr>\n",
       "    <tr>\n",
       "      <th>1</th>\n",
       "      <td>7.8</td>\n",
       "      <td>0.88</td>\n",
       "      <td>0.00</td>\n",
       "      <td>2.6</td>\n",
       "      <td>0.098</td>\n",
       "      <td>25.0</td>\n",
       "      <td>67.0</td>\n",
       "      <td>0.9968</td>\n",
       "      <td>3.20</td>\n",
       "      <td>0.68</td>\n",
       "      <td>9.8</td>\n",
       "      <td>5</td>\n",
       "    </tr>\n",
       "    <tr>\n",
       "      <th>2</th>\n",
       "      <td>7.8</td>\n",
       "      <td>0.76</td>\n",
       "      <td>0.04</td>\n",
       "      <td>2.3</td>\n",
       "      <td>0.092</td>\n",
       "      <td>15.0</td>\n",
       "      <td>54.0</td>\n",
       "      <td>0.9970</td>\n",
       "      <td>3.26</td>\n",
       "      <td>0.65</td>\n",
       "      <td>9.8</td>\n",
       "      <td>5</td>\n",
       "    </tr>\n",
       "    <tr>\n",
       "      <th>3</th>\n",
       "      <td>11.2</td>\n",
       "      <td>0.28</td>\n",
       "      <td>0.56</td>\n",
       "      <td>1.9</td>\n",
       "      <td>0.075</td>\n",
       "      <td>17.0</td>\n",
       "      <td>60.0</td>\n",
       "      <td>0.9980</td>\n",
       "      <td>3.16</td>\n",
       "      <td>0.58</td>\n",
       "      <td>9.8</td>\n",
       "      <td>6</td>\n",
       "    </tr>\n",
       "    <tr>\n",
       "      <th>4</th>\n",
       "      <td>7.4</td>\n",
       "      <td>0.70</td>\n",
       "      <td>0.00</td>\n",
       "      <td>1.9</td>\n",
       "      <td>0.076</td>\n",
       "      <td>11.0</td>\n",
       "      <td>34.0</td>\n",
       "      <td>0.9978</td>\n",
       "      <td>3.51</td>\n",
       "      <td>0.56</td>\n",
       "      <td>9.4</td>\n",
       "      <td>5</td>\n",
       "    </tr>\n",
       "  </tbody>\n",
       "</table>\n",
       "</div>"
      ],
      "text/plain": [
       "   fixed acidity  volatile acidity  citric acid  residual sugar  chlorides  \\\n",
       "0            7.4              0.70         0.00             1.9      0.076   \n",
       "1            7.8              0.88         0.00             2.6      0.098   \n",
       "2            7.8              0.76         0.04             2.3      0.092   \n",
       "3           11.2              0.28         0.56             1.9      0.075   \n",
       "4            7.4              0.70         0.00             1.9      0.076   \n",
       "\n",
       "   free sulfur dioxide  total sulfur dioxide  density    pH  sulphates  \\\n",
       "0                 11.0                  34.0   0.9978  3.51       0.56   \n",
       "1                 25.0                  67.0   0.9968  3.20       0.68   \n",
       "2                 15.0                  54.0   0.9970  3.26       0.65   \n",
       "3                 17.0                  60.0   0.9980  3.16       0.58   \n",
       "4                 11.0                  34.0   0.9978  3.51       0.56   \n",
       "\n",
       "   alcohol  quality  \n",
       "0      9.4        5  \n",
       "1      9.8        5  \n",
       "2      9.8        5  \n",
       "3      9.8        6  \n",
       "4      9.4        5  "
      ]
     },
     "execution_count": 110,
     "metadata": {},
     "output_type": "execute_result"
    }
   ],
   "source": [
    "df_wine.head()"
   ]
  },
  {
   "cell_type": "code",
   "execution_count": 111,
   "metadata": {
    "collapsed": true
   },
   "outputs": [],
   "source": [
    "df_wine.loc[:, 'quality'] = (df_wine.loc[:, 'quality'] > 5).astype(int)"
   ]
  },
  {
   "cell_type": "code",
   "execution_count": 112,
   "metadata": {
    "collapsed": true
   },
   "outputs": [],
   "source": [
    "X, y = df_wine.iloc[:, :-1].values, df_wine.iloc[:, -1].values"
   ]
  },
  {
   "cell_type": "code",
   "execution_count": 113,
   "metadata": {
    "collapsed": false
   },
   "outputs": [
    {
     "data": {
      "text/plain": [
       "array([[  7.40000000e+00,   7.00000000e-01,   0.00000000e+00,\n",
       "          1.90000000e+00,   7.60000000e-02,   1.10000000e+01,\n",
       "          3.40000000e+01,   9.97800000e-01,   3.51000000e+00,\n",
       "          5.60000000e-01,   9.40000000e+00],\n",
       "       [  7.80000000e+00,   8.80000000e-01,   0.00000000e+00,\n",
       "          2.60000000e+00,   9.80000000e-02,   2.50000000e+01,\n",
       "          6.70000000e+01,   9.96800000e-01,   3.20000000e+00,\n",
       "          6.80000000e-01,   9.80000000e+00],\n",
       "       [  7.80000000e+00,   7.60000000e-01,   4.00000000e-02,\n",
       "          2.30000000e+00,   9.20000000e-02,   1.50000000e+01,\n",
       "          5.40000000e+01,   9.97000000e-01,   3.26000000e+00,\n",
       "          6.50000000e-01,   9.80000000e+00],\n",
       "       [  1.12000000e+01,   2.80000000e-01,   5.60000000e-01,\n",
       "          1.90000000e+00,   7.50000000e-02,   1.70000000e+01,\n",
       "          6.00000000e+01,   9.98000000e-01,   3.16000000e+00,\n",
       "          5.80000000e-01,   9.80000000e+00],\n",
       "       [  7.40000000e+00,   7.00000000e-01,   0.00000000e+00,\n",
       "          1.90000000e+00,   7.60000000e-02,   1.10000000e+01,\n",
       "          3.40000000e+01,   9.97800000e-01,   3.51000000e+00,\n",
       "          5.60000000e-01,   9.40000000e+00],\n",
       "       [  7.40000000e+00,   6.60000000e-01,   0.00000000e+00,\n",
       "          1.80000000e+00,   7.50000000e-02,   1.30000000e+01,\n",
       "          4.00000000e+01,   9.97800000e-01,   3.51000000e+00,\n",
       "          5.60000000e-01,   9.40000000e+00],\n",
       "       [  7.90000000e+00,   6.00000000e-01,   6.00000000e-02,\n",
       "          1.60000000e+00,   6.90000000e-02,   1.50000000e+01,\n",
       "          5.90000000e+01,   9.96400000e-01,   3.30000000e+00,\n",
       "          4.60000000e-01,   9.40000000e+00],\n",
       "       [  7.30000000e+00,   6.50000000e-01,   0.00000000e+00,\n",
       "          1.20000000e+00,   6.50000000e-02,   1.50000000e+01,\n",
       "          2.10000000e+01,   9.94600000e-01,   3.39000000e+00,\n",
       "          4.70000000e-01,   1.00000000e+01],\n",
       "       [  7.80000000e+00,   5.80000000e-01,   2.00000000e-02,\n",
       "          2.00000000e+00,   7.30000000e-02,   9.00000000e+00,\n",
       "          1.80000000e+01,   9.96800000e-01,   3.36000000e+00,\n",
       "          5.70000000e-01,   9.50000000e+00],\n",
       "       [  7.50000000e+00,   5.00000000e-01,   3.60000000e-01,\n",
       "          6.10000000e+00,   7.10000000e-02,   1.70000000e+01,\n",
       "          1.02000000e+02,   9.97800000e-01,   3.35000000e+00,\n",
       "          8.00000000e-01,   1.05000000e+01]])"
      ]
     },
     "execution_count": 113,
     "metadata": {},
     "output_type": "execute_result"
    }
   ],
   "source": [
    "X[:10]"
   ]
  },
  {
   "cell_type": "code",
   "execution_count": 114,
   "metadata": {
    "collapsed": true
   },
   "outputs": [],
   "source": [
    "from sklearn.model_selection import train_test_split"
   ]
  },
  {
   "cell_type": "code",
   "execution_count": 115,
   "metadata": {
    "collapsed": true
   },
   "outputs": [],
   "source": [
    "X_train, X_test, y_train, y_test = train_test_split(X, y, test_size=0.2, random_state=123)"
   ]
  },
  {
   "cell_type": "markdown",
   "metadata": {},
   "source": [
    "#### Задание (2 балла)\n",
    "\n",
    "Сфокусируемся на одном гиперпараметре деревьев решений - максимальной глубине.\n",
    "\n",
    "Подберите наилучшую глубину `d` дерева с помошью \n",
    "* Усредненной оценки качества roc-auc на кросс-валидации при различных `d`\n",
    "* Валидационных кривых"
   ]
  },
  {
   "cell_type": "code",
   "execution_count": 116,
   "metadata": {
    "collapsed": true
   },
   "outputs": [],
   "source": [
    "from sklearn.tree import DecisionTreeClassifier\n",
    "\n",
    "try:\n",
    "    from sklearn.model_selection import cross_val_score\n",
    "except ImportError:\n",
    "    from sklearn.cross_validation import cross_val_score\n",
    "\n",
    "try:\n",
    "    from sklearn.model_selection import validation_curve\n",
    "except ImportError:\n",
    "    from sklearn.learning_curve import validation_curve"
   ]
  },
  {
   "cell_type": "code",
   "execution_count": 117,
   "metadata": {
    "collapsed": false
   },
   "outputs": [],
   "source": [
    "scores = []\n",
    "\n",
    "for d in xrange(1, 20):\n",
    "    model = DecisionTreeClassifier(max_depth=d, random_state=123)\n",
    "    scores.append(cross_val_score(model, X_train, y_train, cv=5, scoring='roc_auc').mean())"
   ]
  },
  {
   "cell_type": "code",
   "execution_count": 118,
   "metadata": {
    "collapsed": false
   },
   "outputs": [
    {
     "data": {
      "text/plain": [
       "[<matplotlib.lines.Line2D at 0xcbac780>]"
      ]
     },
     "execution_count": 118,
     "metadata": {},
     "output_type": "execute_result"
    },
    {
     "data": {
      "image/png": "[encoded data removed]",
      "text/plain": [
       "<matplotlib.figure.Figure at 0xdf55be0>"
      ]
     },
     "metadata": {},
     "output_type": "display_data"
    }
   ],
   "source": [
    "plt.plot(range(1,20), scores)"
   ]
  },
  {
   "cell_type": "code",
   "execution_count": 119,
   "metadata": {
    "collapsed": true
   },
   "outputs": [],
   "source": [
    "# При мере качества roc-auc виден явный пик на глубине 4\n",
    "# Если выбрать меру качества accuracy, то выбрать оптимальную глубину окажется не так просто.\n",
    "\n",
    "# Воспользуемся validation_curve\n",
    "# По сути - этот метод делает тоже самое что наш цикл с cross_val_score, но в результате возвращаются мера качества\n",
    "# как на тестовой части каждого из фолдов, так и на обучающей части"
   ]
  },
  {
   "cell_type": "code",
   "execution_count": 120,
   "metadata": {
    "collapsed": false
   },
   "outputs": [],
   "source": [
    "model = DecisionTreeClassifier(random_state=123)\n",
    "train_scores, test_scores = validation_curve(model, X_train, y_train, 'max_depth',\n",
    "                                             range(1, 20), n_jobs=-1, cv=5, scoring='roc_auc')"
   ]
  },
  {
   "cell_type": "code",
   "execution_count": 121,
   "metadata": {
    "collapsed": false
   },
   "outputs": [],
   "source": [
    "train_mean = train_scores.mean(axis=1)\n",
    "test_mean = test_scores.mean(axis=1)\n",
    "train_std = train_scores.std(axis=1)\n",
    "test_std = test_scores.std(axis=1)"
   ]
  },
  {
   "cell_type": "code",
   "execution_count": 122,
   "metadata": {
    "collapsed": false
   },
   "outputs": [
    {
     "data": {
      "text/plain": [
       "<matplotlib.collections.PolyCollection at 0xeabe6d8>"
      ]
     },
     "execution_count": 122,
     "metadata": {},
     "output_type": "execute_result"
    },
    {
     "data": {
      "image/png": "[encoded data removed]",
      "text/plain": [
       "<matplotlib.figure.Figure at 0xcdc4ef0>"
      ]
     },
     "metadata": {},
     "output_type": "display_data"
    }
   ],
   "source": [
    "d = range(1,20)\n",
    "plt.plot(d, train_mean, color='b')\n",
    "plt.plot(d, test_mean)\n",
    "\n",
    "plt.fill_between(d, train_mean-train_std, train_mean+train_std, color='b', alpha=0.3)\n",
    "plt.fill_between(d, test_mean-test_std, test_mean+test_std, color='r', alpha=0.3)"
   ]
  },
  {
   "cell_type": "code",
   "execution_count": 123,
   "metadata": {
    "collapsed": true
   },
   "outputs": [],
   "source": [
    "# При roc-auc видем тот же самый пик\n",
    "# Если выбрать меру качества accuracy, то на той глубине, где accuracy был наибольший (где-то в районе 13) ошибка на \n",
    "# на трейновой части минимальная - то есть очень сильное переобучение.\n",
    "\n",
    "# Основываясь, во-первых, на том, что по roc-auc виден пик при max_depth=4, и во-вторых на том, что переобучение по \n",
    "# accuracy не такое сильное при max_depth=4, а качество будет повыше, чем в окрестности, то я бы выбрал глубину = 4"
   ]
  },
  {
   "cell_type": "markdown",
   "metadata": {},
   "source": [
    "#### Задание (1 балл)\n",
    "\n",
    "Отсортируйте признаки по важности. Вектор с важностью признаков можно получить с помощью `model.feature_importances_`"
   ]
  },
  {
   "cell_type": "code",
   "execution_count": 124,
   "metadata": {
    "collapsed": false
   },
   "outputs": [
    {
     "name": "stdout",
     "output_type": "stream",
     "text": [
      "[('fixed acidity', 0.0), ('volatile acidity', 0.12647936864446638), ('citric acid', 0.0), ('residual sugar', 0.0), ('chlorides', 0.0), ('free sulfur dioxide', 0.05226398318254942), ('total sulfur dioxide', 0.054715792374000712), ('density', 0.013563525625998071), ('pH', 0.017811772337276023), ('sulphates', 0.16057994247268007), ('alcohol', 0.57458561536302932)]\n"
     ]
    }
   ],
   "source": [
    "model_gini = DecisionTreeClassifier(max_depth=4, random_state=123)\n",
    "model_gini.fit(X_train, y_train)\n",
    "# display the relative importance of each attribute\n",
    "print zip(df_wine.columns, model_gini.feature_importances_)"
   ]
  },
  {
   "cell_type": "markdown",
   "metadata": {},
   "source": [
    "#### Задание (2 балла)\n",
    "* Получите предсказания на тестовой выборке\n",
    "* Постройте ROC кривые для обучающей и тестовой выборок\n",
    "* Посчитайте остальные меры качества классификации при пороге в `0.5`"
   ]
  },
  {
   "cell_type": "code",
   "execution_count": null,
   "metadata": {
    "collapsed": false
   },
   "outputs": [],
   "source": []
  },
  {
   "cell_type": "code",
   "execution_count": null,
   "metadata": {
    "collapsed": false
   },
   "outputs": [
    {
     "data": {
      "image/png": "[encoded data removed]",
      "text/plain": [
       "<matplotlib.figure.Figure at 0xe800ba8>"
      ]
     },
     "metadata": {},
     "output_type": "display_data"
    },
    {
     "name": "stdout",
     "output_type": "stream",
     "text": [
      "Accuracy is  68.75\n",
      "0.49904296875 0.998618854965 0.478125\n"
     ]
    }
   ],
   "source": [
    "# Your Code Here\n",
    "y_pred = model_gini.predict(X_test)\n",
    "y_predprob = model_gini.predict_proba(X_test)\n",
    "#print y_predprob\n",
    "\n",
    "from sklearn.metrics import roc_curve, auc\n",
    "\n",
    "false_positive_rate, true_positive_rate, thresholds = roc_curve(y_test, y_pred)\n",
    "roc_auc = auc(false_positive_rate, true_positive_rate)\n",
    "\n",
    "\n",
    "false_positive_rateTest, true_positive_rateTest, thresholdsTest = roc_curve(y_test, y_test)\n",
    "roc_aucTest = auc(false_positive_rateTest, true_positive_rateTest)\n",
    "\n",
    "\n",
    "plt.title('Receiver Operating Characteristic')\n",
    "plt.plot(false_positive_rate, true_positive_rate, 'b',\n",
    "label='AUC = %0.2f'% roc_auc)\n",
    "plt.plot(false_positive_rateTest, true_positive_rateTest, 'g',\n",
    "label='AUC = %0.2f'% roc_aucTest)\n",
    "\n",
    "plt.legend(loc='lower right')\n",
    "plt.plot([0,1],[0,1],'r--')\n",
    "plt.xlim([-0.1,1.2])\n",
    "plt.ylim([-0.1,1.2])\n",
    "plt.ylabel('True Positive Rate')\n",
    "plt.xlabel('False Positive Rate')\n",
    "plt.show()\n",
    "\n",
    "def gini(p):\n",
    "   return (p)*(1 - (p)) + (1 - p)*(1 - (1-p))\n",
    "\n",
    "def entropy(p):\n",
    "   return - p*np.log2(p) - (1 - p)*np.log2((1 - p))\n",
    "\n",
    "def classification_error(p):\n",
    "   return 1 - np.max([p, 1 - p])\n",
    "\n",
    "\n",
    "from sklearn.metrics import accuracy_score\n",
    "\n",
    "print \"Accuracy is \", accuracy_score(y_test,y_pred)*100\n",
    "\n",
    "class_distr = (y_predprob > 0.5).astype(int)\n",
    "eachclassAmount = class_distr.sum(axis = 0)\n",
    "\n",
    "from __future__ import division\n",
    "\n",
    "p = eachclassAmount[0] / eachclassAmount.sum()\n",
    "print gini(p), entropy(p), classification_error(p)"
   ]
  },
  {
   "cell_type": "markdown",
   "metadata": {},
   "source": [
    "#### Задание (1 балл)\n",
    "Перейдем к модели случайного леса. Зафиксируем некоторую глубину дерева (можно звять оптимальное с предыдущих заданий).\n",
    "\n",
    "Сравните качество работы \n",
    "* Простого дерева решений\n",
    "* Бэггинга над 10,20,...,100 деревьями решений\n",
    "* Случайного леса с 10,20,...,100 деревьями решений\n",
    "\n",
    "Получите график, у которого по оси X откладывается количество деревьев, а по оси Y - качество классификации."
   ]
  },
  {
   "cell_type": "code",
   "execution_count": null,
   "metadata": {
    "collapsed": false
   },
   "outputs": [],
   "source": [
    "from sklearn.ensemble import BaggingClassifier\n",
    "from sklearn.ensemble import RandomForestClassifier\n",
    "\n",
    "# Bagged Decision Trees for Classification\n",
    "seed = 123\n",
    "cart = DecisionTreeClassifier(max_depth = 4, random_state=123)\n",
    "\n",
    "scoresBagging = []\n",
    "\n",
    "for num_trees in range(10, 110, 10):\n",
    "    model = BaggingClassifier(base_estimator=cart, n_estimators = num_trees, random_state = seed)\n",
    "    scoresBagging.append(cross_val_score(model, X_train, y_train, cv=5, scoring='roc_auc').mean())\n",
    "\n",
    "scoresRandom = []\n",
    "\n",
    "for num_trees in range(10, 110, 10):\n",
    "    model = RandomForestClassifier(n_jobs=-1, max_depth = 4, n_estimators = num_trees, random_state = seed)\n",
    "    scoresRandom.append(cross_val_score(model, X_train, y_train, cv=5, scoring='roc_auc').mean())\n",
    "\n",
    "num_trees = range(10, 110, 10)\n",
    "plt.plot(num_trees, scoresBagging, color='b')\n",
    "plt.plot(num_trees, scoresRandom)\n",
    "\n",
    "model = DecisionTreeClassifier(max_depth=4, random_state=123)\n",
    "results = model_selection.cross_val_score(model, X_train, y_train, cv=5, scoring='roc_auc').mean()\n",
    "print(results)\n",
    "\n",
    "\n",
    "\n",
    "\n",
    "\n",
    "\n",
    "\n",
    "\n",
    "\n"
   ]
  },
  {
   "cell_type": "code",
   "execution_count": null,
   "metadata": {
    "collapsed": true
   },
   "outputs": [],
   "source": [
    "# Your Code Here\n"
   ]
  },
  {
   "cell_type": "markdown",
   "metadata": {},
   "source": [
    "####  Задание (3 балла)\n",
    "* С помощью `GridSearchCV` или `RandomSearchCV` подберите наиболее оптимальные параметры для случайного леса.\n",
    "* Для этих параметров сравните средние результаты по кросс-валидации и качество на контрольной выборке"
   ]
  },
  {
   "cell_type": "code",
   "execution_count": null,
   "metadata": {
    "collapsed": false
   },
   "outputs": [],
   "source": [
    "# Your Code Here\n",
    "from sklearn.model_selection import GridSearchCV\n",
    "\n",
    "\n",
    "rfc = RandomForestClassifier(n_jobs=-1, n_estimators = 50, max_depth = 4, random_state = seed) \n",
    "\n",
    "param_grid = { \n",
    "    'n_estimators': [10, 100],\n",
    "    'max_depth': [1, 10]\n",
    "}\n",
    "\n",
    "CV_rfc = GridSearchCV(estimator=rfc, param_grid=param_grid, cv= 5)\n",
    "CV_rfc.fit(X_train, y_train)\n",
    "print CV_rfc.best_params_\n",
    "\n",
    "model = RandomForestClassifier(n_jobs=-1, n_estimators = 100, max_depth = 10, random_state = seed)\n",
    "model.fit(X_train, y_train)\n",
    "results = model_selection.cross_val_score(model, X_test, y_test, cv=5, scoring='roc_auc').mean()\n",
    "print \"Average results for cross validation \", results\n",
    "\n",
    "print \"Accuracy is \", accuracy_score(y_test, model.predict(X_test))*100\n",
    "\n"
   ]
  }
 ],
 "metadata": {
  "anaconda-cloud": {},
  "kernelspec": {
   "display_name": "Python 2",
   "language": "python",
   "name": "python2"
  },
  "language_info": {
   "codemirror_mode": {
    "name": "ipython",
    "version": 2
   },
   "file_extension": ".py",
   "mimetype": "text/x-python",
   "name": "python",
   "nbconvert_exporter": "python",
   "pygments_lexer": "ipython2",
   "version": "2.7.13"
  },
  "nav_menu": {},
  "toc": {
   "navigate_menu": true,
   "number_sections": false,
   "sideBar": false,
   "threshold": 6,
   "toc_cell": false,
   "toc_section_display": "block",
   "toc_window_display": true
  },
  "toc_position": {
   "height": "80px",
   "left": "28px",
   "right": "862.667px",
   "top": "138px",
   "width": "176px"
  }
 },
 "nbformat": 4,
 "nbformat_minor": 0
}
